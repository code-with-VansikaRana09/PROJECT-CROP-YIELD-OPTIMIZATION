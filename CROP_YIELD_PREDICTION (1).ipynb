{
 "cells": [
  {
   "cell_type": "code",
   "execution_count": 1,
   "id": "a1f1bb44-5159-4be3-a099-6d1df35b4aac",
   "metadata": {},
   "outputs": [],
   "source": [
    "import pandas as pd\n",
    "import numpy as np\n",
    "import seaborn as sns\n",
    "import matplotlib.pyplot as plt\n",
    "plt.style.use(\"ggplot\")"
   ]
  },
  {
   "cell_type": "code",
   "execution_count": 3,
   "id": "13ab8f4b-9314-401b-9a51-07fb45a1555f",
   "metadata": {},
   "outputs": [],
   "source": [
    "df=pd.read_csv(\"D:/crop_yield.csv\")"
   ]
  },
  {
   "cell_type": "code",
   "execution_count": 5,
   "id": "f05e3024-ba59-4eea-b09f-34ba5128b06a",
   "metadata": {},
   "outputs": [
    {
     "data": {
      "text/html": [
       "<div>\n",
       "<style scoped>\n",
       "    .dataframe tbody tr th:only-of-type {\n",
       "        vertical-align: middle;\n",
       "    }\n",
       "\n",
       "    .dataframe tbody tr th {\n",
       "        vertical-align: top;\n",
       "    }\n",
       "\n",
       "    .dataframe thead th {\n",
       "        text-align: right;\n",
       "    }\n",
       "</style>\n",
       "<table border=\"1\" class=\"dataframe\">\n",
       "  <thead>\n",
       "    <tr style=\"text-align: right;\">\n",
       "      <th></th>\n",
       "      <th>Crop</th>\n",
       "      <th>Crop_Year</th>\n",
       "      <th>Season</th>\n",
       "      <th>State</th>\n",
       "      <th>Area</th>\n",
       "      <th>Unnamed: 5</th>\n",
       "      <th>Annual_Rainfall</th>\n",
       "      <th>Fertilizer</th>\n",
       "      <th>Pesticide</th>\n",
       "      <th>Yield</th>\n",
       "    </tr>\n",
       "  </thead>\n",
       "  <tbody>\n",
       "    <tr>\n",
       "      <th>0</th>\n",
       "      <td>NaN</td>\n",
       "      <td>NaN</td>\n",
       "      <td>NaN</td>\n",
       "      <td>NaN</td>\n",
       "      <td>NaN</td>\n",
       "      <td>NaN</td>\n",
       "      <td>NaN</td>\n",
       "      <td>NaN</td>\n",
       "      <td>NaN</td>\n",
       "      <td>NaN</td>\n",
       "    </tr>\n",
       "    <tr>\n",
       "      <th>1</th>\n",
       "      <td>Arhar/Tur</td>\n",
       "      <td>1997.0</td>\n",
       "      <td>Kharif</td>\n",
       "      <td>Assam</td>\n",
       "      <td>6637.0</td>\n",
       "      <td>NaN</td>\n",
       "      <td>2051.4</td>\n",
       "      <td>631643.29</td>\n",
       "      <td>2057.47</td>\n",
       "      <td>0.710435</td>\n",
       "    </tr>\n",
       "    <tr>\n",
       "      <th>2</th>\n",
       "      <td>Castor seed</td>\n",
       "      <td>1997.0</td>\n",
       "      <td>Kharif</td>\n",
       "      <td>Assam</td>\n",
       "      <td>796.0</td>\n",
       "      <td>NaN</td>\n",
       "      <td>2051.4</td>\n",
       "      <td>75755.32</td>\n",
       "      <td>246.76</td>\n",
       "      <td>0.238333</td>\n",
       "    </tr>\n",
       "    <tr>\n",
       "      <th>3</th>\n",
       "      <td>Coconut</td>\n",
       "      <td>1997.0</td>\n",
       "      <td>Whole Year</td>\n",
       "      <td>Assam</td>\n",
       "      <td>19656.0</td>\n",
       "      <td>NaN</td>\n",
       "      <td>2051.4</td>\n",
       "      <td>1870661.52</td>\n",
       "      <td>6093.36</td>\n",
       "      <td>5238.051739</td>\n",
       "    </tr>\n",
       "    <tr>\n",
       "      <th>4</th>\n",
       "      <td>Cotton(lint)</td>\n",
       "      <td>1997.0</td>\n",
       "      <td>Kharif</td>\n",
       "      <td>Assam</td>\n",
       "      <td>1739.0</td>\n",
       "      <td>NaN</td>\n",
       "      <td>2051.4</td>\n",
       "      <td>165500.63</td>\n",
       "      <td>539.09</td>\n",
       "      <td>0.420909</td>\n",
       "    </tr>\n",
       "  </tbody>\n",
       "</table>\n",
       "</div>"
      ],
      "text/plain": [
       "           Crop  Crop_Year       Season  State     Area  Unnamed: 5  \\\n",
       "0           NaN        NaN          NaN    NaN      NaN         NaN   \n",
       "1     Arhar/Tur     1997.0  Kharif       Assam   6637.0         NaN   \n",
       "2   Castor seed     1997.0  Kharif       Assam    796.0         NaN   \n",
       "3      Coconut      1997.0  Whole Year   Assam  19656.0         NaN   \n",
       "4  Cotton(lint)     1997.0  Kharif       Assam   1739.0         NaN   \n",
       "\n",
       "   Annual_Rainfall  Fertilizer  Pesticide        Yield  \n",
       "0              NaN         NaN        NaN          NaN  \n",
       "1           2051.4   631643.29    2057.47     0.710435  \n",
       "2           2051.4    75755.32     246.76     0.238333  \n",
       "3           2051.4  1870661.52    6093.36  5238.051739  \n",
       "4           2051.4   165500.63     539.09     0.420909  "
      ]
     },
     "execution_count": 5,
     "metadata": {},
     "output_type": "execute_result"
    }
   ],
   "source": [
    "df.head()"
   ]
  },
  {
   "cell_type": "code",
   "execution_count": 7,
   "id": "20e06f55-83c1-48f6-9095-11871561a8c3",
   "metadata": {},
   "outputs": [],
   "source": [
    "df.drop('Unnamed: 5',axis=1, inplace=True)\n"
   ]
  },
  {
   "cell_type": "code",
   "execution_count": 9,
   "id": "5d1d84e6-9a51-4308-8549-c6bbfcda67c8",
   "metadata": {},
   "outputs": [
    {
     "data": {
      "text/html": [
       "<div>\n",
       "<style scoped>\n",
       "    .dataframe tbody tr th:only-of-type {\n",
       "        vertical-align: middle;\n",
       "    }\n",
       "\n",
       "    .dataframe tbody tr th {\n",
       "        vertical-align: top;\n",
       "    }\n",
       "\n",
       "    .dataframe thead th {\n",
       "        text-align: right;\n",
       "    }\n",
       "</style>\n",
       "<table border=\"1\" class=\"dataframe\">\n",
       "  <thead>\n",
       "    <tr style=\"text-align: right;\">\n",
       "      <th></th>\n",
       "      <th>Crop</th>\n",
       "      <th>Crop_Year</th>\n",
       "      <th>Season</th>\n",
       "      <th>State</th>\n",
       "      <th>Area</th>\n",
       "      <th>Annual_Rainfall</th>\n",
       "      <th>Fertilizer</th>\n",
       "      <th>Pesticide</th>\n",
       "      <th>Yield</th>\n",
       "    </tr>\n",
       "  </thead>\n",
       "  <tbody>\n",
       "    <tr>\n",
       "      <th>0</th>\n",
       "      <td>NaN</td>\n",
       "      <td>NaN</td>\n",
       "      <td>NaN</td>\n",
       "      <td>NaN</td>\n",
       "      <td>NaN</td>\n",
       "      <td>NaN</td>\n",
       "      <td>NaN</td>\n",
       "      <td>NaN</td>\n",
       "      <td>NaN</td>\n",
       "    </tr>\n",
       "    <tr>\n",
       "      <th>1</th>\n",
       "      <td>Arhar/Tur</td>\n",
       "      <td>1997.0</td>\n",
       "      <td>Kharif</td>\n",
       "      <td>Assam</td>\n",
       "      <td>6637.0</td>\n",
       "      <td>2051.4</td>\n",
       "      <td>631643.29</td>\n",
       "      <td>2057.47</td>\n",
       "      <td>0.710435</td>\n",
       "    </tr>\n",
       "    <tr>\n",
       "      <th>2</th>\n",
       "      <td>Castor seed</td>\n",
       "      <td>1997.0</td>\n",
       "      <td>Kharif</td>\n",
       "      <td>Assam</td>\n",
       "      <td>796.0</td>\n",
       "      <td>2051.4</td>\n",
       "      <td>75755.32</td>\n",
       "      <td>246.76</td>\n",
       "      <td>0.238333</td>\n",
       "    </tr>\n",
       "    <tr>\n",
       "      <th>3</th>\n",
       "      <td>Coconut</td>\n",
       "      <td>1997.0</td>\n",
       "      <td>Whole Year</td>\n",
       "      <td>Assam</td>\n",
       "      <td>19656.0</td>\n",
       "      <td>2051.4</td>\n",
       "      <td>1870661.52</td>\n",
       "      <td>6093.36</td>\n",
       "      <td>5238.051739</td>\n",
       "    </tr>\n",
       "    <tr>\n",
       "      <th>4</th>\n",
       "      <td>Cotton(lint)</td>\n",
       "      <td>1997.0</td>\n",
       "      <td>Kharif</td>\n",
       "      <td>Assam</td>\n",
       "      <td>1739.0</td>\n",
       "      <td>2051.4</td>\n",
       "      <td>165500.63</td>\n",
       "      <td>539.09</td>\n",
       "      <td>0.420909</td>\n",
       "    </tr>\n",
       "  </tbody>\n",
       "</table>\n",
       "</div>"
      ],
      "text/plain": [
       "           Crop  Crop_Year       Season  State     Area  Annual_Rainfall  \\\n",
       "0           NaN        NaN          NaN    NaN      NaN              NaN   \n",
       "1     Arhar/Tur     1997.0  Kharif       Assam   6637.0           2051.4   \n",
       "2   Castor seed     1997.0  Kharif       Assam    796.0           2051.4   \n",
       "3      Coconut      1997.0  Whole Year   Assam  19656.0           2051.4   \n",
       "4  Cotton(lint)     1997.0  Kharif       Assam   1739.0           2051.4   \n",
       "\n",
       "   Fertilizer  Pesticide        Yield  \n",
       "0         NaN        NaN          NaN  \n",
       "1   631643.29    2057.47     0.710435  \n",
       "2    75755.32     246.76     0.238333  \n",
       "3  1870661.52    6093.36  5238.051739  \n",
       "4   165500.63     539.09     0.420909  "
      ]
     },
     "execution_count": 9,
     "metadata": {},
     "output_type": "execute_result"
    }
   ],
   "source": [
    "df.head()\n"
   ]
  },
  {
   "cell_type": "code",
   "execution_count": 11,
   "id": "bc1fd157-8bf3-4f74-be7b-3af3b5a2e552",
   "metadata": {},
   "outputs": [
    {
     "name": "stdout",
     "output_type": "stream",
     "text": [
      "<class 'pandas.core.frame.DataFrame'>\n",
      "RangeIndex: 17763 entries, 0 to 17762\n",
      "Data columns (total 9 columns):\n",
      " #   Column           Non-Null Count  Dtype  \n",
      "---  ------           --------------  -----  \n",
      " 0   Crop             7853 non-null   object \n",
      " 1   Crop_Year        7853 non-null   float64\n",
      " 2   Season           7853 non-null   object \n",
      " 3   State            7853 non-null   object \n",
      " 4   Area             7853 non-null   float64\n",
      " 5   Annual_Rainfall  7853 non-null   float64\n",
      " 6   Fertilizer       7853 non-null   float64\n",
      " 7   Pesticide        7853 non-null   float64\n",
      " 8   Yield            7853 non-null   float64\n",
      "dtypes: float64(6), object(3)\n",
      "memory usage: 1.2+ MB\n"
     ]
    }
   ],
   "source": [
    "df.info()\n"
   ]
  },
  {
   "cell_type": "code",
   "execution_count": 13,
   "id": "80bfc904-c0f6-405f-aa47-4196b8df3fa7",
   "metadata": {},
   "outputs": [
    {
     "data": {
      "text/plain": [
       "Crop               9910\n",
       "Crop_Year          9910\n",
       "Season             9910\n",
       "State              9910\n",
       "Area               9910\n",
       "Annual_Rainfall    9910\n",
       "Fertilizer         9910\n",
       "Pesticide          9910\n",
       "Yield              9910\n",
       "dtype: int64"
      ]
     },
     "execution_count": 13,
     "metadata": {},
     "output_type": "execute_result"
    }
   ],
   "source": [
    "df.isnull().sum()"
   ]
  },
  {
   "cell_type": "code",
   "execution_count": 15,
   "id": "cf413d33-5267-45e0-83c1-5ff427c56913",
   "metadata": {},
   "outputs": [],
   "source": [
    "df.dropna(subset=['Crop'], inplace=True)"
   ]
  },
  {
   "cell_type": "code",
   "execution_count": 17,
   "id": "1459a57c-e1f3-43e3-a59e-e627fbd3e3f0",
   "metadata": {},
   "outputs": [
    {
     "data": {
      "text/plain": [
       "Crop               0\n",
       "Crop_Year          0\n",
       "Season             0\n",
       "State              0\n",
       "Area               0\n",
       "Annual_Rainfall    0\n",
       "Fertilizer         0\n",
       "Pesticide          0\n",
       "Yield              0\n",
       "dtype: int64"
      ]
     },
     "execution_count": 17,
     "metadata": {},
     "output_type": "execute_result"
    }
   ],
   "source": [
    "df.isnull().sum()\n"
   ]
  },
  {
   "cell_type": "code",
   "execution_count": 19,
   "id": "637bbd52-b318-4d4a-ae8b-a6fac2e340ec",
   "metadata": {},
   "outputs": [
    {
     "data": {
      "text/html": [
       "<div>\n",
       "<style scoped>\n",
       "    .dataframe tbody tr th:only-of-type {\n",
       "        vertical-align: middle;\n",
       "    }\n",
       "\n",
       "    .dataframe tbody tr th {\n",
       "        vertical-align: top;\n",
       "    }\n",
       "\n",
       "    .dataframe thead th {\n",
       "        text-align: right;\n",
       "    }\n",
       "</style>\n",
       "<table border=\"1\" class=\"dataframe\">\n",
       "  <thead>\n",
       "    <tr style=\"text-align: right;\">\n",
       "      <th></th>\n",
       "      <th>Crop</th>\n",
       "      <th>Crop_Year</th>\n",
       "      <th>Season</th>\n",
       "      <th>State</th>\n",
       "      <th>Area</th>\n",
       "      <th>Annual_Rainfall</th>\n",
       "      <th>Fertilizer</th>\n",
       "      <th>Pesticide</th>\n",
       "      <th>Yield</th>\n",
       "    </tr>\n",
       "  </thead>\n",
       "  <tbody>\n",
       "    <tr>\n",
       "      <th>1</th>\n",
       "      <td>Arhar/Tur</td>\n",
       "      <td>1997.0</td>\n",
       "      <td>Kharif</td>\n",
       "      <td>Assam</td>\n",
       "      <td>6637.0</td>\n",
       "      <td>2051.4</td>\n",
       "      <td>631643.29</td>\n",
       "      <td>2057.47</td>\n",
       "      <td>0.710435</td>\n",
       "    </tr>\n",
       "    <tr>\n",
       "      <th>2</th>\n",
       "      <td>Castor seed</td>\n",
       "      <td>1997.0</td>\n",
       "      <td>Kharif</td>\n",
       "      <td>Assam</td>\n",
       "      <td>796.0</td>\n",
       "      <td>2051.4</td>\n",
       "      <td>75755.32</td>\n",
       "      <td>246.76</td>\n",
       "      <td>0.238333</td>\n",
       "    </tr>\n",
       "    <tr>\n",
       "      <th>3</th>\n",
       "      <td>Coconut</td>\n",
       "      <td>1997.0</td>\n",
       "      <td>Whole Year</td>\n",
       "      <td>Assam</td>\n",
       "      <td>19656.0</td>\n",
       "      <td>2051.4</td>\n",
       "      <td>1870661.52</td>\n",
       "      <td>6093.36</td>\n",
       "      <td>5238.051739</td>\n",
       "    </tr>\n",
       "    <tr>\n",
       "      <th>4</th>\n",
       "      <td>Cotton(lint)</td>\n",
       "      <td>1997.0</td>\n",
       "      <td>Kharif</td>\n",
       "      <td>Assam</td>\n",
       "      <td>1739.0</td>\n",
       "      <td>2051.4</td>\n",
       "      <td>165500.63</td>\n",
       "      <td>539.09</td>\n",
       "      <td>0.420909</td>\n",
       "    </tr>\n",
       "    <tr>\n",
       "      <th>7</th>\n",
       "      <td>Jute</td>\n",
       "      <td>1997.0</td>\n",
       "      <td>Kharif</td>\n",
       "      <td>Assam</td>\n",
       "      <td>94520.0</td>\n",
       "      <td>2051.4</td>\n",
       "      <td>8995468.40</td>\n",
       "      <td>29301.20</td>\n",
       "      <td>9.919565</td>\n",
       "    </tr>\n",
       "  </tbody>\n",
       "</table>\n",
       "</div>"
      ],
      "text/plain": [
       "           Crop  Crop_Year       Season  State     Area  Annual_Rainfall  \\\n",
       "1     Arhar/Tur     1997.0  Kharif       Assam   6637.0           2051.4   \n",
       "2   Castor seed     1997.0  Kharif       Assam    796.0           2051.4   \n",
       "3      Coconut      1997.0  Whole Year   Assam  19656.0           2051.4   \n",
       "4  Cotton(lint)     1997.0  Kharif       Assam   1739.0           2051.4   \n",
       "7          Jute     1997.0  Kharif       Assam  94520.0           2051.4   \n",
       "\n",
       "   Fertilizer  Pesticide        Yield  \n",
       "1   631643.29    2057.47     0.710435  \n",
       "2    75755.32     246.76     0.238333  \n",
       "3  1870661.52    6093.36  5238.051739  \n",
       "4   165500.63     539.09     0.420909  \n",
       "7  8995468.40   29301.20     9.919565  "
      ]
     },
     "execution_count": 19,
     "metadata": {},
     "output_type": "execute_result"
    }
   ],
   "source": [
    "df.head()"
   ]
  },
  {
   "cell_type": "code",
   "execution_count": 21,
   "id": "8ead6ad7-d897-4aa7-a988-34b367251fe7",
   "metadata": {},
   "outputs": [],
   "source": [
    "df.dropna(subset=['Crop_Year'], inplace=True)\n",
    "df.dropna(subset=['Season'], inplace=True)\n",
    "df.dropna(subset=['State'], inplace=True)\n",
    "df.dropna(subset=['Area'], inplace=True)\n",
    "df.dropna(subset=['Annual_Rainfall'], inplace=True)\n",
    "df.dropna(subset=['Fertilizer'], inplace=True)\n",
    "df.dropna(subset=['Pesticide'], inplace=True)\n",
    "df.dropna(subset=['Yield'], inplace=True)"
   ]
  },
  {
   "cell_type": "code",
   "execution_count": 23,
   "id": "e9838326-9d2f-41d7-b4a6-35216ddeaba8",
   "metadata": {},
   "outputs": [
    {
     "data": {
      "text/plain": [
       "Crop               0\n",
       "Crop_Year          0\n",
       "Season             0\n",
       "State              0\n",
       "Area               0\n",
       "Annual_Rainfall    0\n",
       "Fertilizer         0\n",
       "Pesticide          0\n",
       "Yield              0\n",
       "dtype: int64"
      ]
     },
     "execution_count": 23,
     "metadata": {},
     "output_type": "execute_result"
    }
   ],
   "source": [
    "df.isnull().sum()"
   ]
  },
  {
   "cell_type": "code",
   "execution_count": 25,
   "id": "9d13c967-064c-45b3-8f86-eafd5d12e470",
   "metadata": {},
   "outputs": [
    {
     "data": {
      "text/plain": [
       "0"
      ]
     },
     "execution_count": 25,
     "metadata": {},
     "output_type": "execute_result"
    }
   ],
   "source": [
    "df.duplicated().sum()\n"
   ]
  },
  {
   "cell_type": "code",
   "execution_count": 27,
   "id": "a5600f75-6018-4c10-ab55-684e621dcf11",
   "metadata": {},
   "outputs": [
    {
     "data": {
      "text/plain": [
       "(7853, 9)"
      ]
     },
     "execution_count": 27,
     "metadata": {},
     "output_type": "execute_result"
    }
   ],
   "source": [
    "df.shape"
   ]
  },
  {
   "cell_type": "code",
   "execution_count": 29,
   "id": "a25f74b3-6ab6-480d-8b28-ac480679c034",
   "metadata": {},
   "outputs": [
    {
     "data": {
      "text/html": [
       "<div>\n",
       "<style scoped>\n",
       "    .dataframe tbody tr th:only-of-type {\n",
       "        vertical-align: middle;\n",
       "    }\n",
       "\n",
       "    .dataframe tbody tr th {\n",
       "        vertical-align: top;\n",
       "    }\n",
       "\n",
       "    .dataframe thead th {\n",
       "        text-align: right;\n",
       "    }\n",
       "</style>\n",
       "<table border=\"1\" class=\"dataframe\">\n",
       "  <thead>\n",
       "    <tr style=\"text-align: right;\">\n",
       "      <th></th>\n",
       "      <th>Crop_Year</th>\n",
       "      <th>Area</th>\n",
       "      <th>Annual_Rainfall</th>\n",
       "      <th>Fertilizer</th>\n",
       "      <th>Pesticide</th>\n",
       "      <th>Yield</th>\n",
       "    </tr>\n",
       "  </thead>\n",
       "  <tbody>\n",
       "    <tr>\n",
       "      <th>count</th>\n",
       "      <td>7853.000000</td>\n",
       "      <td>7.853000e+03</td>\n",
       "      <td>7853.000000</td>\n",
       "      <td>7.853000e+03</td>\n",
       "      <td>7.853000e+03</td>\n",
       "      <td>7853.000000</td>\n",
       "    </tr>\n",
       "    <tr>\n",
       "      <th>mean</th>\n",
       "      <td>2008.827964</td>\n",
       "      <td>2.517319e+05</td>\n",
       "      <td>1321.369644</td>\n",
       "      <td>3.356385e+07</td>\n",
       "      <td>6.862149e+04</td>\n",
       "      <td>97.821458</td>\n",
       "    </tr>\n",
       "    <tr>\n",
       "      <th>std</th>\n",
       "      <td>6.433014</td>\n",
       "      <td>1.017636e+06</td>\n",
       "      <td>652.657076</td>\n",
       "      <td>1.288515e+08</td>\n",
       "      <td>2.988106e+05</td>\n",
       "      <td>921.415213</td>\n",
       "    </tr>\n",
       "    <tr>\n",
       "      <th>min</th>\n",
       "      <td>1997.000000</td>\n",
       "      <td>8.000000e-01</td>\n",
       "      <td>301.300000</td>\n",
       "      <td>9.467000e+01</td>\n",
       "      <td>1.700000e-01</td>\n",
       "      <td>0.000000</td>\n",
       "    </tr>\n",
       "    <tr>\n",
       "      <th>25%</th>\n",
       "      <td>2003.000000</td>\n",
       "      <td>2.211000e+03</td>\n",
       "      <td>860.800000</td>\n",
       "      <td>3.042052e+05</td>\n",
       "      <td>5.737600e+02</td>\n",
       "      <td>0.565556</td>\n",
       "    </tr>\n",
       "    <tr>\n",
       "      <th>50%</th>\n",
       "      <td>2009.000000</td>\n",
       "      <td>1.363600e+04</td>\n",
       "      <td>1217.700000</td>\n",
       "      <td>1.855892e+06</td>\n",
       "      <td>3.563190e+03</td>\n",
       "      <td>0.994615</td>\n",
       "    </tr>\n",
       "    <tr>\n",
       "      <th>75%</th>\n",
       "      <td>2014.000000</td>\n",
       "      <td>1.075330e+05</td>\n",
       "      <td>1650.100000</td>\n",
       "      <td>1.455769e+07</td>\n",
       "      <td>2.896649e+04</td>\n",
       "      <td>2.483182</td>\n",
       "    </tr>\n",
       "    <tr>\n",
       "      <th>max</th>\n",
       "      <td>2020.000000</td>\n",
       "      <td>5.080810e+07</td>\n",
       "      <td>3489.600000</td>\n",
       "      <td>4.835407e+09</td>\n",
       "      <td>1.575051e+07</td>\n",
       "      <td>13592.127780</td>\n",
       "    </tr>\n",
       "  </tbody>\n",
       "</table>\n",
       "</div>"
      ],
      "text/plain": [
       "         Crop_Year          Area  Annual_Rainfall    Fertilizer     Pesticide  \\\n",
       "count  7853.000000  7.853000e+03      7853.000000  7.853000e+03  7.853000e+03   \n",
       "mean   2008.827964  2.517319e+05      1321.369644  3.356385e+07  6.862149e+04   \n",
       "std       6.433014  1.017636e+06       652.657076  1.288515e+08  2.988106e+05   \n",
       "min    1997.000000  8.000000e-01       301.300000  9.467000e+01  1.700000e-01   \n",
       "25%    2003.000000  2.211000e+03       860.800000  3.042052e+05  5.737600e+02   \n",
       "50%    2009.000000  1.363600e+04      1217.700000  1.855892e+06  3.563190e+03   \n",
       "75%    2014.000000  1.075330e+05      1650.100000  1.455769e+07  2.896649e+04   \n",
       "max    2020.000000  5.080810e+07      3489.600000  4.835407e+09  1.575051e+07   \n",
       "\n",
       "              Yield  \n",
       "count   7853.000000  \n",
       "mean      97.821458  \n",
       "std      921.415213  \n",
       "min        0.000000  \n",
       "25%        0.565556  \n",
       "50%        0.994615  \n",
       "75%        2.483182  \n",
       "max    13592.127780  "
      ]
     },
     "execution_count": 29,
     "metadata": {},
     "output_type": "execute_result"
    }
   ],
   "source": [
    "df.describe()"
   ]
  },
  {
   "cell_type": "code",
   "execution_count": 31,
   "id": "f42acc53-48cf-45ae-b221-63099fbd4e5a",
   "metadata": {},
   "outputs": [
    {
     "data": {
      "text/html": [
       "<div>\n",
       "<style scoped>\n",
       "    .dataframe tbody tr th:only-of-type {\n",
       "        vertical-align: middle;\n",
       "    }\n",
       "\n",
       "    .dataframe tbody tr th {\n",
       "        vertical-align: top;\n",
       "    }\n",
       "\n",
       "    .dataframe thead th {\n",
       "        text-align: right;\n",
       "    }\n",
       "</style>\n",
       "<table border=\"1\" class=\"dataframe\">\n",
       "  <thead>\n",
       "    <tr style=\"text-align: right;\">\n",
       "      <th></th>\n",
       "      <th>Crop_Year</th>\n",
       "      <th>Area</th>\n",
       "      <th>Annual_Rainfall</th>\n",
       "      <th>Fertilizer</th>\n",
       "      <th>Pesticide</th>\n",
       "      <th>Yield</th>\n",
       "    </tr>\n",
       "  </thead>\n",
       "  <tbody>\n",
       "    <tr>\n",
       "      <th>Crop_Year</th>\n",
       "      <td>1.000000</td>\n",
       "      <td>-0.031393</td>\n",
       "      <td>0.012495</td>\n",
       "      <td>0.018675</td>\n",
       "      <td>-0.001322</td>\n",
       "      <td>-0.002763</td>\n",
       "    </tr>\n",
       "    <tr>\n",
       "      <th>Area</th>\n",
       "      <td>-0.031393</td>\n",
       "      <td>1.000000</td>\n",
       "      <td>-0.099138</td>\n",
       "      <td>0.971757</td>\n",
       "      <td>0.976008</td>\n",
       "      <td>0.001351</td>\n",
       "    </tr>\n",
       "    <tr>\n",
       "      <th>Annual_Rainfall</th>\n",
       "      <td>0.012495</td>\n",
       "      <td>-0.099138</td>\n",
       "      <td>1.000000</td>\n",
       "      <td>-0.106705</td>\n",
       "      <td>-0.089768</td>\n",
       "      <td>0.094121</td>\n",
       "    </tr>\n",
       "    <tr>\n",
       "      <th>Fertilizer</th>\n",
       "      <td>0.018675</td>\n",
       "      <td>0.971757</td>\n",
       "      <td>-0.106705</td>\n",
       "      <td>1.000000</td>\n",
       "      <td>0.954029</td>\n",
       "      <td>0.002276</td>\n",
       "    </tr>\n",
       "    <tr>\n",
       "      <th>Pesticide</th>\n",
       "      <td>-0.001322</td>\n",
       "      <td>0.976008</td>\n",
       "      <td>-0.089768</td>\n",
       "      <td>0.954029</td>\n",
       "      <td>1.000000</td>\n",
       "      <td>0.001359</td>\n",
       "    </tr>\n",
       "    <tr>\n",
       "      <th>Yield</th>\n",
       "      <td>-0.002763</td>\n",
       "      <td>0.001351</td>\n",
       "      <td>0.094121</td>\n",
       "      <td>0.002276</td>\n",
       "      <td>0.001359</td>\n",
       "      <td>1.000000</td>\n",
       "    </tr>\n",
       "  </tbody>\n",
       "</table>\n",
       "</div>"
      ],
      "text/plain": [
       "                 Crop_Year      Area  Annual_Rainfall  Fertilizer  Pesticide  \\\n",
       "Crop_Year         1.000000 -0.031393         0.012495    0.018675  -0.001322   \n",
       "Area             -0.031393  1.000000        -0.099138    0.971757   0.976008   \n",
       "Annual_Rainfall   0.012495 -0.099138         1.000000   -0.106705  -0.089768   \n",
       "Fertilizer        0.018675  0.971757        -0.106705    1.000000   0.954029   \n",
       "Pesticide        -0.001322  0.976008        -0.089768    0.954029   1.000000   \n",
       "Yield            -0.002763  0.001351         0.094121    0.002276   0.001359   \n",
       "\n",
       "                    Yield  \n",
       "Crop_Year       -0.002763  \n",
       "Area             0.001351  \n",
       "Annual_Rainfall  0.094121  \n",
       "Fertilizer       0.002276  \n",
       "Pesticide        0.001359  \n",
       "Yield            1.000000  "
      ]
     },
     "execution_count": 31,
     "metadata": {},
     "output_type": "execute_result"
    }
   ],
   "source": [
    "df.corr(numeric_only=True)"
   ]
  },
  {
   "cell_type": "code",
   "execution_count": 33,
   "id": "03a1d6a4-00d8-4f2d-9d36-29cf25bb43e6",
   "metadata": {},
   "outputs": [
    {
     "data": {
      "text/plain": [
       "10"
      ]
     },
     "execution_count": 33,
     "metadata": {},
     "output_type": "execute_result"
    }
   ],
   "source": [
    "# Data Visualization\n",
    "len(df['State'].unique())"
   ]
  },
  {
   "cell_type": "code",
   "execution_count": 35,
   "id": "939f2c69-64dc-450b-aa57-c289ccb4b406",
   "metadata": {},
   "outputs": [
    {
     "data": {
      "text/plain": [
       "54"
      ]
     },
     "execution_count": 35,
     "metadata": {},
     "output_type": "execute_result"
    }
   ],
   "source": [
    "len(df['Crop'].unique())"
   ]
  },
  {
   "cell_type": "code",
   "execution_count": 37,
   "id": "f56d7454-b003-4b9f-9634-1d253e2a54d5",
   "metadata": {},
   "outputs": [
    {
     "data": {
      "image/png": "[encoded data removed]",
      "text/plain": [
       "<Figure size 1500x1000 with 1 Axes>"
      ]
     },
     "metadata": {},
     "output_type": "display_data"
    }
   ],
   "source": [
    "# plotting\n",
    "plt.figure(figsize=(15,10))\n",
    "sns.countplot(y=df['State'])\n",
    "plt.show()"
   ]
  },
  {
   "cell_type": "code",
   "execution_count": 39,
   "id": "62ebfea6-3995-430e-89ce-46c753a50b68",
   "metadata": {},
   "outputs": [
    {
     "data": {
      "image/png": "[encoded data removed]",
      "text/plain": [
       "<Figure size 1500x1000 with 1 Axes>"
      ]
     },
     "metadata": {},
     "output_type": "display_data"
    }
   ],
   "source": [
    "plt.figure(figsize=(15,10))\n",
    "sns.countplot(y=df['Crop'])\n",
    "plt.show()"
   ]
  },
  {
   "cell_type": "code",
   "execution_count": 41,
   "id": "c2e5b14c-b7d6-4998-bf2c-b1892037a219",
   "metadata": {},
   "outputs": [
    {
     "data": {
      "text/plain": [
       "<bound method Series.sum of State\n",
       "Karnataka           False\n",
       "West Bengal         False\n",
       "Madhya Pradesh      False\n",
       "Uttar Pradesh       False\n",
       "Uttarakhand         False\n",
       "Assam               False\n",
       "Haryana             False\n",
       "Himachal Pradesh    False\n",
       "Kerala              False\n",
       "Punjab               True\n",
       "Name: count, dtype: bool>"
      ]
     },
     "execution_count": 41,
     "metadata": {},
     "output_type": "execute_result"
    }
   ],
   "source": [
    "(df['State'].value_counts() <400).sum"
   ]
  },
  {
   "cell_type": "code",
   "execution_count": 43,
   "id": "a6c71dcb-0b93-47ad-8718-ee93762598d7",
   "metadata": {},
   "outputs": [
    {
     "data": {
      "text/plain": [
       "1"
      ]
     },
     "execution_count": 43,
     "metadata": {},
     "output_type": "execute_result"
    }
   ],
   "source": [
    "(df['State'].value_counts() <400).sum()"
   ]
  },
  {
   "cell_type": "code",
   "execution_count": 45,
   "id": "8e99c021-0e7a-40fd-a675-07b05551842f",
   "metadata": {},
   "outputs": [],
   "source": [
    "Location=df['State'].unique()\n",
    "yield_per_state=[]\n",
    "for i in Location:\n",
    "    yield_per_state.append(df[df['State']==i]['Yield'].sum())"
   ]
  },
  {
   "cell_type": "code",
   "execution_count": 47,
   "id": "a5b04c18-3dcd-44e2-bd6e-7dc6dbdab6b1",
   "metadata": {},
   "outputs": [
    {
     "data": {
      "text/plain": [
       "768191.9120296319"
      ]
     },
     "execution_count": 47,
     "metadata": {},
     "output_type": "execute_result"
    }
   ],
   "source": [
    "df['Yield'].sum()"
   ]
  },
  {
   "cell_type": "code",
   "execution_count": 49,
   "id": "37d6dba4-f06d-4a5b-ac8c-502d18771370",
   "metadata": {},
   "outputs": [
    {
     "data": {
      "text/plain": [
       "[160599.911389604,\n",
       " 151386.66175295098,\n",
       " 147686.40183488,\n",
       " 291986.752178661,\n",
       " 2921.854255047,\n",
       " 1926.5684359329998,\n",
       " 4168.818512641999,\n",
       " 3491.154047808,\n",
       " 1170.0898315489999,\n",
       " 2853.699790557]"
      ]
     },
     "execution_count": 49,
     "metadata": {},
     "output_type": "execute_result"
    }
   ],
   "source": [
    "yield_per_state"
   ]
  },
  {
   "cell_type": "code",
   "execution_count": 51,
   "id": "d866fc47-1e46-4ce5-bc2f-cec3fa8d1a66",
   "metadata": {},
   "outputs": [
    {
     "data": {
      "image/png": "[encoded data removed]",
      "text/plain": [
       "<Figure size 1500x2000 with 1 Axes>"
      ]
     },
     "metadata": {},
     "output_type": "display_data"
    }
   ],
   "source": [
    "plt.figure(figsize=(15,20))\n",
    "sns.barplot(y=Location, x=yield_per_state)\n",
    "plt.show()"
   ]
  },
  {
   "cell_type": "code",
   "execution_count": 53,
   "id": "2de7170a-6778-4dd5-8904-28156468e0f7",
   "metadata": {},
   "outputs": [],
   "source": [
    "crops=df['Crop'].unique()\n",
    "yield_per_crop=[]\n",
    "for crop in crops:\n",
    "    yield_per_crop.append(df[df['Crop']==crop]['Yield'].sum())"
   ]
  },
  {
   "cell_type": "code",
   "execution_count": 55,
   "id": "7361428c-8fec-4421-8822-13c3cedf04cc",
   "metadata": {},
   "outputs": [
    {
     "data": {
      "image/png": "[encoded data removed]",
      "text/plain": [
       "<Figure size 1000x1500 with 1 Axes>"
      ]
     },
     "metadata": {},
     "output_type": "display_data"
    }
   ],
   "source": [
    "plt.figure(figsize=(10,15))\n",
    "sns.barplot(y=crops, x=yield_per_crop)\n",
    "plt.show()"
   ]
  },
  {
   "cell_type": "code",
   "execution_count": 57,
   "id": "d396f0a5-aaa3-4f30-b6cd-075416b83aa9",
   "metadata": {},
   "outputs": [
    {
     "data": {
      "text/html": [
       "<div>\n",
       "<style scoped>\n",
       "    .dataframe tbody tr th:only-of-type {\n",
       "        vertical-align: middle;\n",
       "    }\n",
       "\n",
       "    .dataframe tbody tr th {\n",
       "        vertical-align: top;\n",
       "    }\n",
       "\n",
       "    .dataframe thead th {\n",
       "        text-align: right;\n",
       "    }\n",
       "</style>\n",
       "<table border=\"1\" class=\"dataframe\">\n",
       "  <thead>\n",
       "    <tr style=\"text-align: right;\">\n",
       "      <th></th>\n",
       "      <th>Crop</th>\n",
       "      <th>Crop_Year</th>\n",
       "      <th>Season</th>\n",
       "      <th>State</th>\n",
       "      <th>Area</th>\n",
       "      <th>Annual_Rainfall</th>\n",
       "      <th>Fertilizer</th>\n",
       "      <th>Pesticide</th>\n",
       "      <th>Yield</th>\n",
       "    </tr>\n",
       "  </thead>\n",
       "  <tbody>\n",
       "    <tr>\n",
       "      <th>1</th>\n",
       "      <td>Arhar/Tur</td>\n",
       "      <td>1997.0</td>\n",
       "      <td>Kharif</td>\n",
       "      <td>Assam</td>\n",
       "      <td>6637.0</td>\n",
       "      <td>2051.4</td>\n",
       "      <td>6.316433e+05</td>\n",
       "      <td>2057.47</td>\n",
       "      <td>0.710435</td>\n",
       "    </tr>\n",
       "    <tr>\n",
       "      <th>2</th>\n",
       "      <td>Castor seed</td>\n",
       "      <td>1997.0</td>\n",
       "      <td>Kharif</td>\n",
       "      <td>Assam</td>\n",
       "      <td>796.0</td>\n",
       "      <td>2051.4</td>\n",
       "      <td>7.575532e+04</td>\n",
       "      <td>246.76</td>\n",
       "      <td>0.238333</td>\n",
       "    </tr>\n",
       "    <tr>\n",
       "      <th>3</th>\n",
       "      <td>Coconut</td>\n",
       "      <td>1997.0</td>\n",
       "      <td>Whole Year</td>\n",
       "      <td>Assam</td>\n",
       "      <td>19656.0</td>\n",
       "      <td>2051.4</td>\n",
       "      <td>1.870662e+06</td>\n",
       "      <td>6093.36</td>\n",
       "      <td>5238.051739</td>\n",
       "    </tr>\n",
       "    <tr>\n",
       "      <th>4</th>\n",
       "      <td>Cotton(lint)</td>\n",
       "      <td>1997.0</td>\n",
       "      <td>Kharif</td>\n",
       "      <td>Assam</td>\n",
       "      <td>1739.0</td>\n",
       "      <td>2051.4</td>\n",
       "      <td>1.655006e+05</td>\n",
       "      <td>539.09</td>\n",
       "      <td>0.420909</td>\n",
       "    </tr>\n",
       "    <tr>\n",
       "      <th>7</th>\n",
       "      <td>Jute</td>\n",
       "      <td>1997.0</td>\n",
       "      <td>Kharif</td>\n",
       "      <td>Assam</td>\n",
       "      <td>94520.0</td>\n",
       "      <td>2051.4</td>\n",
       "      <td>8.995468e+06</td>\n",
       "      <td>29301.20</td>\n",
       "      <td>9.919565</td>\n",
       "    </tr>\n",
       "    <tr>\n",
       "      <th>...</th>\n",
       "      <td>...</td>\n",
       "      <td>...</td>\n",
       "      <td>...</td>\n",
       "      <td>...</td>\n",
       "      <td>...</td>\n",
       "      <td>...</td>\n",
       "      <td>...</td>\n",
       "      <td>...</td>\n",
       "      <td>...</td>\n",
       "    </tr>\n",
       "    <tr>\n",
       "      <th>17758</th>\n",
       "      <td>Sunflower</td>\n",
       "      <td>2005.0</td>\n",
       "      <td>Summer</td>\n",
       "      <td>Uttar Pradesh</td>\n",
       "      <td>12599.0</td>\n",
       "      <td>751.9</td>\n",
       "      <td>1.510872e+06</td>\n",
       "      <td>2645.79</td>\n",
       "      <td>1.271364</td>\n",
       "    </tr>\n",
       "    <tr>\n",
       "      <th>17759</th>\n",
       "      <td>Sweet potato</td>\n",
       "      <td>2005.0</td>\n",
       "      <td>Whole Year</td>\n",
       "      <td>Uttar Pradesh</td>\n",
       "      <td>20476.0</td>\n",
       "      <td>751.9</td>\n",
       "      <td>2.455482e+06</td>\n",
       "      <td>4299.96</td>\n",
       "      <td>13.183188</td>\n",
       "    </tr>\n",
       "    <tr>\n",
       "      <th>17760</th>\n",
       "      <td>Tobacco</td>\n",
       "      <td>2005.0</td>\n",
       "      <td>Whole Year</td>\n",
       "      <td>Uttar Pradesh</td>\n",
       "      <td>20591.0</td>\n",
       "      <td>751.9</td>\n",
       "      <td>2.469273e+06</td>\n",
       "      <td>4324.11</td>\n",
       "      <td>5.484444</td>\n",
       "    </tr>\n",
       "    <tr>\n",
       "      <th>17761</th>\n",
       "      <td>Turmeric</td>\n",
       "      <td>2005.0</td>\n",
       "      <td>Rabi</td>\n",
       "      <td>Uttar Pradesh</td>\n",
       "      <td>979.0</td>\n",
       "      <td>751.9</td>\n",
       "      <td>1.174017e+05</td>\n",
       "      <td>205.59</td>\n",
       "      <td>4.410968</td>\n",
       "    </tr>\n",
       "    <tr>\n",
       "      <th>17762</th>\n",
       "      <td>Wheat</td>\n",
       "      <td>2005.0</td>\n",
       "      <td>Rabi</td>\n",
       "      <td>Uttar Pradesh</td>\n",
       "      <td>9163949.0</td>\n",
       "      <td>751.9</td>\n",
       "      <td>1.098941e+09</td>\n",
       "      <td>1924429.29</td>\n",
       "      <td>2.538143</td>\n",
       "    </tr>\n",
       "  </tbody>\n",
       "</table>\n",
       "<p>7853 rows × 9 columns</p>\n",
       "</div>"
      ],
      "text/plain": [
       "               Crop  Crop_Year       Season          State       Area  \\\n",
       "1         Arhar/Tur     1997.0  Kharif               Assam     6637.0   \n",
       "2       Castor seed     1997.0  Kharif               Assam      796.0   \n",
       "3          Coconut      1997.0  Whole Year           Assam    19656.0   \n",
       "4      Cotton(lint)     1997.0  Kharif               Assam     1739.0   \n",
       "7              Jute     1997.0  Kharif               Assam    94520.0   \n",
       "...             ...        ...          ...            ...        ...   \n",
       "17758     Sunflower     2005.0  Summer       Uttar Pradesh    12599.0   \n",
       "17759  Sweet potato     2005.0  Whole Year   Uttar Pradesh    20476.0   \n",
       "17760       Tobacco     2005.0  Whole Year   Uttar Pradesh    20591.0   \n",
       "17761      Turmeric     2005.0  Rabi         Uttar Pradesh      979.0   \n",
       "17762         Wheat     2005.0  Rabi         Uttar Pradesh  9163949.0   \n",
       "\n",
       "       Annual_Rainfall    Fertilizer   Pesticide        Yield  \n",
       "1               2051.4  6.316433e+05     2057.47     0.710435  \n",
       "2               2051.4  7.575532e+04      246.76     0.238333  \n",
       "3               2051.4  1.870662e+06     6093.36  5238.051739  \n",
       "4               2051.4  1.655006e+05      539.09     0.420909  \n",
       "7               2051.4  8.995468e+06    29301.20     9.919565  \n",
       "...                ...           ...         ...          ...  \n",
       "17758            751.9  1.510872e+06     2645.79     1.271364  \n",
       "17759            751.9  2.455482e+06     4299.96    13.183188  \n",
       "17760            751.9  2.469273e+06     4324.11     5.484444  \n",
       "17761            751.9  1.174017e+05      205.59     4.410968  \n",
       "17762            751.9  1.098941e+09  1924429.29     2.538143  \n",
       "\n",
       "[7853 rows x 9 columns]"
      ]
     },
     "execution_count": 57,
     "metadata": {},
     "output_type": "execute_result"
    }
   ],
   "source": [
    "df"
   ]
  },
  {
   "cell_type": "code",
   "execution_count": 59,
   "id": "829269d6-b489-4ef7-bcc8-2e199ba85e2a",
   "metadata": {},
   "outputs": [
    {
     "data": {
      "text/plain": [
       "Index(['Crop', 'Crop_Year', 'Season', 'State', 'Area', 'Annual_Rainfall',\n",
       "       'Fertilizer', 'Pesticide', 'Yield'],\n",
       "      dtype='object')"
      ]
     },
     "execution_count": 59,
     "metadata": {},
     "output_type": "execute_result"
    }
   ],
   "source": [
    "df.columns"
   ]
  },
  {
   "cell_type": "code",
   "execution_count": 61,
   "id": "40ad677c-65ec-49ea-ba9a-85a529bdeec2",
   "metadata": {},
   "outputs": [],
   "source": [
    "col=['Crop', 'Crop_Year', 'Season', 'State', 'Area', 'Annual_Rainfall',\n",
    "       'Fertilizer', 'Pesticide', 'Yield']\n",
    "df=df[col]"
   ]
  },
  {
   "cell_type": "code",
   "execution_count": 63,
   "id": "f64bd63e-f791-4434-8be2-b16b088ec224",
   "metadata": {},
   "outputs": [
    {
     "data": {
      "text/html": [
       "<div>\n",
       "<style scoped>\n",
       "    .dataframe tbody tr th:only-of-type {\n",
       "        vertical-align: middle;\n",
       "    }\n",
       "\n",
       "    .dataframe tbody tr th {\n",
       "        vertical-align: top;\n",
       "    }\n",
       "\n",
       "    .dataframe thead th {\n",
       "        text-align: right;\n",
       "    }\n",
       "</style>\n",
       "<table border=\"1\" class=\"dataframe\">\n",
       "  <thead>\n",
       "    <tr style=\"text-align: right;\">\n",
       "      <th></th>\n",
       "      <th>Crop</th>\n",
       "      <th>Crop_Year</th>\n",
       "      <th>Season</th>\n",
       "      <th>State</th>\n",
       "      <th>Area</th>\n",
       "      <th>Annual_Rainfall</th>\n",
       "      <th>Fertilizer</th>\n",
       "      <th>Pesticide</th>\n",
       "      <th>Yield</th>\n",
       "    </tr>\n",
       "  </thead>\n",
       "  <tbody>\n",
       "    <tr>\n",
       "      <th>1</th>\n",
       "      <td>Arhar/Tur</td>\n",
       "      <td>1997.0</td>\n",
       "      <td>Kharif</td>\n",
       "      <td>Assam</td>\n",
       "      <td>6637.0</td>\n",
       "      <td>2051.4</td>\n",
       "      <td>6.316433e+05</td>\n",
       "      <td>2057.47</td>\n",
       "      <td>0.710435</td>\n",
       "    </tr>\n",
       "    <tr>\n",
       "      <th>2</th>\n",
       "      <td>Castor seed</td>\n",
       "      <td>1997.0</td>\n",
       "      <td>Kharif</td>\n",
       "      <td>Assam</td>\n",
       "      <td>796.0</td>\n",
       "      <td>2051.4</td>\n",
       "      <td>7.575532e+04</td>\n",
       "      <td>246.76</td>\n",
       "      <td>0.238333</td>\n",
       "    </tr>\n",
       "    <tr>\n",
       "      <th>3</th>\n",
       "      <td>Coconut</td>\n",
       "      <td>1997.0</td>\n",
       "      <td>Whole Year</td>\n",
       "      <td>Assam</td>\n",
       "      <td>19656.0</td>\n",
       "      <td>2051.4</td>\n",
       "      <td>1.870662e+06</td>\n",
       "      <td>6093.36</td>\n",
       "      <td>5238.051739</td>\n",
       "    </tr>\n",
       "    <tr>\n",
       "      <th>4</th>\n",
       "      <td>Cotton(lint)</td>\n",
       "      <td>1997.0</td>\n",
       "      <td>Kharif</td>\n",
       "      <td>Assam</td>\n",
       "      <td>1739.0</td>\n",
       "      <td>2051.4</td>\n",
       "      <td>1.655006e+05</td>\n",
       "      <td>539.09</td>\n",
       "      <td>0.420909</td>\n",
       "    </tr>\n",
       "    <tr>\n",
       "      <th>7</th>\n",
       "      <td>Jute</td>\n",
       "      <td>1997.0</td>\n",
       "      <td>Kharif</td>\n",
       "      <td>Assam</td>\n",
       "      <td>94520.0</td>\n",
       "      <td>2051.4</td>\n",
       "      <td>8.995468e+06</td>\n",
       "      <td>29301.20</td>\n",
       "      <td>9.919565</td>\n",
       "    </tr>\n",
       "    <tr>\n",
       "      <th>...</th>\n",
       "      <td>...</td>\n",
       "      <td>...</td>\n",
       "      <td>...</td>\n",
       "      <td>...</td>\n",
       "      <td>...</td>\n",
       "      <td>...</td>\n",
       "      <td>...</td>\n",
       "      <td>...</td>\n",
       "      <td>...</td>\n",
       "    </tr>\n",
       "    <tr>\n",
       "      <th>17758</th>\n",
       "      <td>Sunflower</td>\n",
       "      <td>2005.0</td>\n",
       "      <td>Summer</td>\n",
       "      <td>Uttar Pradesh</td>\n",
       "      <td>12599.0</td>\n",
       "      <td>751.9</td>\n",
       "      <td>1.510872e+06</td>\n",
       "      <td>2645.79</td>\n",
       "      <td>1.271364</td>\n",
       "    </tr>\n",
       "    <tr>\n",
       "      <th>17759</th>\n",
       "      <td>Sweet potato</td>\n",
       "      <td>2005.0</td>\n",
       "      <td>Whole Year</td>\n",
       "      <td>Uttar Pradesh</td>\n",
       "      <td>20476.0</td>\n",
       "      <td>751.9</td>\n",
       "      <td>2.455482e+06</td>\n",
       "      <td>4299.96</td>\n",
       "      <td>13.183188</td>\n",
       "    </tr>\n",
       "    <tr>\n",
       "      <th>17760</th>\n",
       "      <td>Tobacco</td>\n",
       "      <td>2005.0</td>\n",
       "      <td>Whole Year</td>\n",
       "      <td>Uttar Pradesh</td>\n",
       "      <td>20591.0</td>\n",
       "      <td>751.9</td>\n",
       "      <td>2.469273e+06</td>\n",
       "      <td>4324.11</td>\n",
       "      <td>5.484444</td>\n",
       "    </tr>\n",
       "    <tr>\n",
       "      <th>17761</th>\n",
       "      <td>Turmeric</td>\n",
       "      <td>2005.0</td>\n",
       "      <td>Rabi</td>\n",
       "      <td>Uttar Pradesh</td>\n",
       "      <td>979.0</td>\n",
       "      <td>751.9</td>\n",
       "      <td>1.174017e+05</td>\n",
       "      <td>205.59</td>\n",
       "      <td>4.410968</td>\n",
       "    </tr>\n",
       "    <tr>\n",
       "      <th>17762</th>\n",
       "      <td>Wheat</td>\n",
       "      <td>2005.0</td>\n",
       "      <td>Rabi</td>\n",
       "      <td>Uttar Pradesh</td>\n",
       "      <td>9163949.0</td>\n",
       "      <td>751.9</td>\n",
       "      <td>1.098941e+09</td>\n",
       "      <td>1924429.29</td>\n",
       "      <td>2.538143</td>\n",
       "    </tr>\n",
       "  </tbody>\n",
       "</table>\n",
       "<p>7853 rows × 9 columns</p>\n",
       "</div>"
      ],
      "text/plain": [
       "               Crop  Crop_Year       Season          State       Area  \\\n",
       "1         Arhar/Tur     1997.0  Kharif               Assam     6637.0   \n",
       "2       Castor seed     1997.0  Kharif               Assam      796.0   \n",
       "3          Coconut      1997.0  Whole Year           Assam    19656.0   \n",
       "4      Cotton(lint)     1997.0  Kharif               Assam     1739.0   \n",
       "7              Jute     1997.0  Kharif               Assam    94520.0   \n",
       "...             ...        ...          ...            ...        ...   \n",
       "17758     Sunflower     2005.0  Summer       Uttar Pradesh    12599.0   \n",
       "17759  Sweet potato     2005.0  Whole Year   Uttar Pradesh    20476.0   \n",
       "17760       Tobacco     2005.0  Whole Year   Uttar Pradesh    20591.0   \n",
       "17761      Turmeric     2005.0  Rabi         Uttar Pradesh      979.0   \n",
       "17762         Wheat     2005.0  Rabi         Uttar Pradesh  9163949.0   \n",
       "\n",
       "       Annual_Rainfall    Fertilizer   Pesticide        Yield  \n",
       "1               2051.4  6.316433e+05     2057.47     0.710435  \n",
       "2               2051.4  7.575532e+04      246.76     0.238333  \n",
       "3               2051.4  1.870662e+06     6093.36  5238.051739  \n",
       "4               2051.4  1.655006e+05      539.09     0.420909  \n",
       "7               2051.4  8.995468e+06    29301.20     9.919565  \n",
       "...                ...           ...         ...          ...  \n",
       "17758            751.9  1.510872e+06     2645.79     1.271364  \n",
       "17759            751.9  2.455482e+06     4299.96    13.183188  \n",
       "17760            751.9  2.469273e+06     4324.11     5.484444  \n",
       "17761            751.9  1.174017e+05      205.59     4.410968  \n",
       "17762            751.9  1.098941e+09  1924429.29     2.538143  \n",
       "\n",
       "[7853 rows x 9 columns]"
      ]
     },
     "execution_count": 63,
     "metadata": {},
     "output_type": "execute_result"
    }
   ],
   "source": [
    "df"
   ]
  },
  {
   "cell_type": "code",
   "execution_count": 65,
   "id": "e6fd09d7-1235-47ae-aca4-abe9f4fdd0be",
   "metadata": {},
   "outputs": [
    {
     "data": {
      "image/png": "[encoded data removed]",
      "text/plain": [
       "<Figure size 1000x1500 with 2 Axes>"
      ]
     },
     "metadata": {},
     "output_type": "display_data"
    }
   ],
   "source": [
    "mat=df.corr(numeric_only=True)\n",
    "fig=plt.figure(figsize=(10,15))\n",
    "sns.heatmap(mat, vmax= .8, square = True)\n",
    "plt.show()"
   ]
  },
  {
   "cell_type": "code",
   "execution_count": 67,
   "id": "d3077988-84e3-48f0-84f3-9b31db44d576",
   "metadata": {},
   "outputs": [],
   "source": [
    "X=df.drop('Yield',axis=1)\n",
    "y=df['Yield']"
   ]
  },
  {
   "cell_type": "code",
   "execution_count": 69,
   "id": "ae6d03ad-ec4f-49f4-9a3e-db7792ba73fa",
   "metadata": {},
   "outputs": [],
   "source": [
    "from sklearn import preprocessing"
   ]
  },
  {
   "cell_type": "code",
   "execution_count": 71,
   "id": "e32f910d-5315-4da1-971f-ef2fdf63df09",
   "metadata": {},
   "outputs": [],
   "source": [
    "from sklearn.model_selection import train_test_split"
   ]
  },
  {
   "cell_type": "code",
   "execution_count": 73,
   "id": "a2a8b144-2bff-4803-9cb2-1afeed16e430",
   "metadata": {},
   "outputs": [],
   "source": [
    "from sklearn.model_selection import train_test_split\n",
    "X_train,X_test,y_train,y_test=X_train, X_test, y_train, y_test = train_test_split(X,y,test_size=0.2,random_state=42)"
   ]
  },
  {
   "cell_type": "code",
   "execution_count": 75,
   "id": "dc65c0f4-56d0-490d-8602-f695217fe9fb",
   "metadata": {},
   "outputs": [
    {
     "data": {
      "text/html": [
       "<div>\n",
       "<style scoped>\n",
       "    .dataframe tbody tr th:only-of-type {\n",
       "        vertical-align: middle;\n",
       "    }\n",
       "\n",
       "    .dataframe tbody tr th {\n",
       "        vertical-align: top;\n",
       "    }\n",
       "\n",
       "    .dataframe thead th {\n",
       "        text-align: right;\n",
       "    }\n",
       "</style>\n",
       "<table border=\"1\" class=\"dataframe\">\n",
       "  <thead>\n",
       "    <tr style=\"text-align: right;\">\n",
       "      <th></th>\n",
       "      <th>Crop</th>\n",
       "      <th>Crop_Year</th>\n",
       "      <th>Season</th>\n",
       "      <th>State</th>\n",
       "      <th>Area</th>\n",
       "      <th>Annual_Rainfall</th>\n",
       "      <th>Fertilizer</th>\n",
       "      <th>Pesticide</th>\n",
       "    </tr>\n",
       "  </thead>\n",
       "  <tbody>\n",
       "    <tr>\n",
       "      <th>9982</th>\n",
       "      <td>Cotton(lint)</td>\n",
       "      <td>2006.0</td>\n",
       "      <td>Kharif</td>\n",
       "      <td>Uttar Pradesh</td>\n",
       "      <td>5174.0</td>\n",
       "      <td>590.5</td>\n",
       "      <td>660771.54</td>\n",
       "      <td>1138.28</td>\n",
       "    </tr>\n",
       "    <tr>\n",
       "      <th>649</th>\n",
       "      <td>Ginger</td>\n",
       "      <td>2000.0</td>\n",
       "      <td>Whole Year</td>\n",
       "      <td>Kerala</td>\n",
       "      <td>11612.0</td>\n",
       "      <td>2412.6</td>\n",
       "      <td>1139950.04</td>\n",
       "      <td>3019.12</td>\n",
       "    </tr>\n",
       "    <tr>\n",
       "      <th>15914</th>\n",
       "      <td>Small millets</td>\n",
       "      <td>2017.0</td>\n",
       "      <td>Summer</td>\n",
       "      <td>Uttar Pradesh</td>\n",
       "      <td>42.0</td>\n",
       "      <td>652.1</td>\n",
       "      <td>6612.48</td>\n",
       "      <td>15.96</td>\n",
       "    </tr>\n",
       "    <tr>\n",
       "      <th>13793</th>\n",
       "      <td>Rice</td>\n",
       "      <td>2014.0</td>\n",
       "      <td>Kharif</td>\n",
       "      <td>Himachal Pradesh</td>\n",
       "      <td>72380.0</td>\n",
       "      <td>1019.9</td>\n",
       "      <td>10926484.80</td>\n",
       "      <td>23885.40</td>\n",
       "    </tr>\n",
       "    <tr>\n",
       "      <th>3774</th>\n",
       "      <td>Ginger</td>\n",
       "      <td>2012.0</td>\n",
       "      <td>Whole Year</td>\n",
       "      <td>Kerala</td>\n",
       "      <td>4505.0</td>\n",
       "      <td>2187.6</td>\n",
       "      <td>679354.00</td>\n",
       "      <td>1396.55</td>\n",
       "    </tr>\n",
       "    <tr>\n",
       "      <th>...</th>\n",
       "      <td>...</td>\n",
       "      <td>...</td>\n",
       "      <td>...</td>\n",
       "      <td>...</td>\n",
       "      <td>...</td>\n",
       "      <td>...</td>\n",
       "      <td>...</td>\n",
       "      <td>...</td>\n",
       "    </tr>\n",
       "    <tr>\n",
       "      <th>11406</th>\n",
       "      <td>Garlic</td>\n",
       "      <td>2009.0</td>\n",
       "      <td>Whole Year</td>\n",
       "      <td>Madhya Pradesh</td>\n",
       "      <td>52169.0</td>\n",
       "      <td>904.1</td>\n",
       "      <td>8128973.58</td>\n",
       "      <td>8868.73</td>\n",
       "    </tr>\n",
       "    <tr>\n",
       "      <th>11831</th>\n",
       "      <td>Dry chillies</td>\n",
       "      <td>2010.0</td>\n",
       "      <td>Kharif</td>\n",
       "      <td>Uttar Pradesh</td>\n",
       "      <td>13673.0</td>\n",
       "      <td>742.6</td>\n",
       "      <td>2271222.03</td>\n",
       "      <td>3281.52</td>\n",
       "    </tr>\n",
       "    <tr>\n",
       "      <th>1476</th>\n",
       "      <td>Arhar/Tur</td>\n",
       "      <td>2003.0</td>\n",
       "      <td>Kharif</td>\n",
       "      <td>West Bengal</td>\n",
       "      <td>3361.0</td>\n",
       "      <td>1526.7</td>\n",
       "      <td>332671.78</td>\n",
       "      <td>806.64</td>\n",
       "    </tr>\n",
       "    <tr>\n",
       "      <th>17214</th>\n",
       "      <td>Peas &amp; beans (Pulses)</td>\n",
       "      <td>2019.0</td>\n",
       "      <td>Rabi</td>\n",
       "      <td>Uttar Pradesh</td>\n",
       "      <td>343563.0</td>\n",
       "      <td>814.5</td>\n",
       "      <td>59010380.88</td>\n",
       "      <td>127118.31</td>\n",
       "    </tr>\n",
       "    <tr>\n",
       "      <th>16215</th>\n",
       "      <td>Sesamum</td>\n",
       "      <td>2018.0</td>\n",
       "      <td>Kharif</td>\n",
       "      <td>Himachal Pradesh</td>\n",
       "      <td>327.0</td>\n",
       "      <td>1052.2</td>\n",
       "      <td>53039.40</td>\n",
       "      <td>114.45</td>\n",
       "    </tr>\n",
       "  </tbody>\n",
       "</table>\n",
       "<p>6282 rows × 8 columns</p>\n",
       "</div>"
      ],
      "text/plain": [
       "                        Crop  Crop_Year       Season             State  \\\n",
       "9982            Cotton(lint)     2006.0  Kharif          Uttar Pradesh   \n",
       "649                   Ginger     2000.0  Whole Year             Kerala   \n",
       "15914          Small millets     2017.0  Summer          Uttar Pradesh   \n",
       "13793                   Rice     2014.0  Kharif       Himachal Pradesh   \n",
       "3774                  Ginger     2012.0  Whole Year             Kerala   \n",
       "...                      ...        ...          ...               ...   \n",
       "11406                 Garlic     2009.0  Whole Year     Madhya Pradesh   \n",
       "11831           Dry chillies     2010.0  Kharif          Uttar Pradesh   \n",
       "1476               Arhar/Tur     2003.0  Kharif            West Bengal   \n",
       "17214  Peas & beans (Pulses)     2019.0  Rabi            Uttar Pradesh   \n",
       "16215                Sesamum     2018.0  Kharif       Himachal Pradesh   \n",
       "\n",
       "           Area  Annual_Rainfall   Fertilizer  Pesticide  \n",
       "9982     5174.0            590.5    660771.54    1138.28  \n",
       "649     11612.0           2412.6   1139950.04    3019.12  \n",
       "15914      42.0            652.1      6612.48      15.96  \n",
       "13793   72380.0           1019.9  10926484.80   23885.40  \n",
       "3774     4505.0           2187.6    679354.00    1396.55  \n",
       "...         ...              ...          ...        ...  \n",
       "11406   52169.0            904.1   8128973.58    8868.73  \n",
       "11831   13673.0            742.6   2271222.03    3281.52  \n",
       "1476     3361.0           1526.7    332671.78     806.64  \n",
       "17214  343563.0            814.5  59010380.88  127118.31  \n",
       "16215     327.0           1052.2     53039.40     114.45  \n",
       "\n",
       "[6282 rows x 8 columns]"
      ]
     },
     "execution_count": 75,
     "metadata": {},
     "output_type": "execute_result"
    }
   ],
   "source": [
    "X_train"
   ]
  },
  {
   "cell_type": "code",
   "execution_count": 77,
   "id": "506bcf1a-1a1b-4938-860f-fb3c20b8e344",
   "metadata": {},
   "outputs": [
    {
     "data": {
      "text/plain": [
       "(6282, 8)"
      ]
     },
     "execution_count": 77,
     "metadata": {},
     "output_type": "execute_result"
    }
   ],
   "source": [
    "X_train.shape"
   ]
  },
  {
   "cell_type": "code",
   "execution_count": 79,
   "id": "46d39a99-f4f6-4791-99a6-7fc020de5edb",
   "metadata": {},
   "outputs": [
    {
     "data": {
      "text/plain": [
       "(1571, 8)"
      ]
     },
     "execution_count": 79,
     "metadata": {},
     "output_type": "execute_result"
    }
   ],
   "source": [
    "X_test.shape"
   ]
  },
  {
   "cell_type": "code",
   "execution_count": 81,
   "id": "479c61dc-f8fb-484a-9472-8ab14ac050d1",
   "metadata": {},
   "outputs": [
    {
     "data": {
      "text/html": [
       "<div>\n",
       "<style scoped>\n",
       "    .dataframe tbody tr th:only-of-type {\n",
       "        vertical-align: middle;\n",
       "    }\n",
       "\n",
       "    .dataframe tbody tr th {\n",
       "        vertical-align: top;\n",
       "    }\n",
       "\n",
       "    .dataframe thead th {\n",
       "        text-align: right;\n",
       "    }\n",
       "</style>\n",
       "<table border=\"1\" class=\"dataframe\">\n",
       "  <thead>\n",
       "    <tr style=\"text-align: right;\">\n",
       "      <th></th>\n",
       "      <th>Crop</th>\n",
       "      <th>Crop_Year</th>\n",
       "      <th>Season</th>\n",
       "      <th>State</th>\n",
       "      <th>Area</th>\n",
       "      <th>Annual_Rainfall</th>\n",
       "      <th>Fertilizer</th>\n",
       "      <th>Pesticide</th>\n",
       "    </tr>\n",
       "  </thead>\n",
       "  <tbody>\n",
       "    <tr>\n",
       "      <th>9982</th>\n",
       "      <td>Cotton(lint)</td>\n",
       "      <td>2006.0</td>\n",
       "      <td>Kharif</td>\n",
       "      <td>Uttar Pradesh</td>\n",
       "      <td>5174.0</td>\n",
       "      <td>590.5</td>\n",
       "      <td>660771.54</td>\n",
       "      <td>1138.28</td>\n",
       "    </tr>\n",
       "  </tbody>\n",
       "</table>\n",
       "</div>"
      ],
      "text/plain": [
       "              Crop  Crop_Year       Season          State    Area  \\\n",
       "9982  Cotton(lint)     2006.0  Kharif       Uttar Pradesh  5174.0   \n",
       "\n",
       "      Annual_Rainfall  Fertilizer  Pesticide  \n",
       "9982            590.5   660771.54    1138.28  "
      ]
     },
     "execution_count": 81,
     "metadata": {},
     "output_type": "execute_result"
    }
   ],
   "source": [
    "from sklearn.preprocessing import OneHotEncoder,StandardScaler\n",
    "from sklearn.compose import ColumnTransformer\n",
    "ohe=OneHotEncoder(drop='first')\n",
    "scaler=StandardScaler()\n",
    "X_train.head(1)"
   ]
  },
  {
   "cell_type": "code",
   "execution_count": 83,
   "id": "40561ef2-9e0b-4ee4-8c7a-d3f749dfcb3a",
   "metadata": {},
   "outputs": [],
   "source": [
    "preprocesser=ColumnTransformer(\n",
    "    transformers=[\n",
    "        ('OneHotEncoder',ohe,[0,2,3]),\n",
    "        ('standardization',scaler,[1,4,5,6,7])\n",
    "    ],\n",
    "    remainder='passthrough'\n",
    ")"
   ]
  },
  {
   "cell_type": "code",
   "execution_count": 85,
   "id": "f6940336-7163-43c2-8c8c-4b0ec4ca4f1e",
   "metadata": {},
   "outputs": [
    {
     "data": {
      "text/html": [
       "<style>#sk-container-id-1 {color: black;background-color: white;}#sk-container-id-1 pre{padding: 0;}#sk-container-id-1 div.sk-toggleable {background-color: white;}#sk-container-id-1 label.sk-toggleable__label {cursor: pointer;display: block;width: 100%;margin-bottom: 0;padding: 0.3em;box-sizing: border-box;text-align: center;}#sk-container-id-1 label.sk-toggleable__label-arrow:before {content: \"▸\";float: left;margin-right: 0.25em;color: #696969;}#sk-container-id-1 label.sk-toggleable__label-arrow:hover:before {color: black;}#sk-container-id-1 div.sk-estimator:hover label.sk-toggleable__label-arrow:before {color: black;}#sk-container-id-1 div.sk-toggleable__content {max-height: 0;max-width: 0;overflow: hidden;text-align: left;background-color: #f0f8ff;}#sk-container-id-1 div.sk-toggleable__content pre {margin: 0.2em;color: black;border-radius: 0.25em;background-color: #f0f8ff;}#sk-container-id-1 input.sk-toggleable__control:checked~div.sk-toggleable__content {max-height: 200px;max-width: 100%;overflow: auto;}#sk-container-id-1 input.sk-toggleable__control:checked~label.sk-toggleable__label-arrow:before {content: \"▾\";}#sk-container-id-1 div.sk-estimator input.sk-toggleable__control:checked~label.sk-toggleable__label {background-color: #d4ebff;}#sk-container-id-1 div.sk-label input.sk-toggleable__control:checked~label.sk-toggleable__label {background-color: #d4ebff;}#sk-container-id-1 input.sk-hidden--visually {border: 0;clip: rect(1px 1px 1px 1px);clip: rect(1px, 1px, 1px, 1px);height: 1px;margin: -1px;overflow: hidden;padding: 0;position: absolute;width: 1px;}#sk-container-id-1 div.sk-estimator {font-family: monospace;background-color: #f0f8ff;border: 1px dotted black;border-radius: 0.25em;box-sizing: border-box;margin-bottom: 0.5em;}#sk-container-id-1 div.sk-estimator:hover {background-color: #d4ebff;}#sk-container-id-1 div.sk-parallel-item::after {content: \"\";width: 100%;border-bottom: 1px solid gray;flex-grow: 1;}#sk-container-id-1 div.sk-label:hover label.sk-toggleable__label {background-color: #d4ebff;}#sk-container-id-1 div.sk-serial::before {content: \"\";position: absolute;border-left: 1px solid gray;box-sizing: border-box;top: 0;bottom: 0;left: 50%;z-index: 0;}#sk-container-id-1 div.sk-serial {display: flex;flex-direction: column;align-items: center;background-color: white;padding-right: 0.2em;padding-left: 0.2em;position: relative;}#sk-container-id-1 div.sk-item {position: relative;z-index: 1;}#sk-container-id-1 div.sk-parallel {display: flex;align-items: stretch;justify-content: center;background-color: white;position: relative;}#sk-container-id-1 div.sk-item::before, #sk-container-id-1 div.sk-parallel-item::before {content: \"\";position: absolute;border-left: 1px solid gray;box-sizing: border-box;top: 0;bottom: 0;left: 50%;z-index: -1;}#sk-container-id-1 div.sk-parallel-item {display: flex;flex-direction: column;z-index: 1;position: relative;background-color: white;}#sk-container-id-1 div.sk-parallel-item:first-child::after {align-self: flex-end;width: 50%;}#sk-container-id-1 div.sk-parallel-item:last-child::after {align-self: flex-start;width: 50%;}#sk-container-id-1 div.sk-parallel-item:only-child::after {width: 0;}#sk-container-id-1 div.sk-dashed-wrapped {border: 1px dashed gray;margin: 0 0.4em 0.5em 0.4em;box-sizing: border-box;padding-bottom: 0.4em;background-color: white;}#sk-container-id-1 div.sk-label label {font-family: monospace;font-weight: bold;display: inline-block;line-height: 1.2em;}#sk-container-id-1 div.sk-label-container {text-align: center;}#sk-container-id-1 div.sk-container {/* jupyter's `normalize.less` sets `[hidden] { display: none; }` but bootstrap.min.css set `[hidden] { display: none !important; }` so we also need the `!important` here to be able to override the default hidden behavior on the sphinx rendered scikit-learn.org. See: https://github.com/scikit-learn/scikit-learn/issues/21755 */display: inline-block !important;position: relative;}#sk-container-id-1 div.sk-text-repr-fallback {display: none;}</style><div id=\"sk-container-id-1\" class=\"sk-top-container\"><div class=\"sk-text-repr-fallback\"><pre>ColumnTransformer(remainder=&#x27;passthrough&#x27;,\n",
       "                  transformers=[(&#x27;OneHotEncoder&#x27;, OneHotEncoder(drop=&#x27;first&#x27;),\n",
       "                                 [0, 2, 3]),\n",
       "                                (&#x27;standardization&#x27;, StandardScaler(),\n",
       "                                 [1, 4, 5, 6, 7])])</pre><b>In a Jupyter environment, please rerun this cell to show the HTML representation or trust the notebook. <br />On GitHub, the HTML representation is unable to render, please try loading this page with nbviewer.org.</b></div><div class=\"sk-container\" hidden><div class=\"sk-item sk-dashed-wrapped\"><div class=\"sk-label-container\"><div class=\"sk-label sk-toggleable\"><input class=\"sk-toggleable__control sk-hidden--visually\" id=\"sk-estimator-id-1\" type=\"checkbox\" ><label for=\"sk-estimator-id-1\" class=\"sk-toggleable__label sk-toggleable__label-arrow\">ColumnTransformer</label><div class=\"sk-toggleable__content\"><pre>ColumnTransformer(remainder=&#x27;passthrough&#x27;,\n",
       "                  transformers=[(&#x27;OneHotEncoder&#x27;, OneHotEncoder(drop=&#x27;first&#x27;),\n",
       "                                 [0, 2, 3]),\n",
       "                                (&#x27;standardization&#x27;, StandardScaler(),\n",
       "                                 [1, 4, 5, 6, 7])])</pre></div></div></div><div class=\"sk-parallel\"><div class=\"sk-parallel-item\"><div class=\"sk-item\"><div class=\"sk-label-container\"><div class=\"sk-label sk-toggleable\"><input class=\"sk-toggleable__control sk-hidden--visually\" id=\"sk-estimator-id-2\" type=\"checkbox\" ><label for=\"sk-estimator-id-2\" class=\"sk-toggleable__label sk-toggleable__label-arrow\">OneHotEncoder</label><div class=\"sk-toggleable__content\"><pre>[0, 2, 3]</pre></div></div></div><div class=\"sk-serial\"><div class=\"sk-item\"><div class=\"sk-estimator sk-toggleable\"><input class=\"sk-toggleable__control sk-hidden--visually\" id=\"sk-estimator-id-3\" type=\"checkbox\" ><label for=\"sk-estimator-id-3\" class=\"sk-toggleable__label sk-toggleable__label-arrow\">OneHotEncoder</label><div class=\"sk-toggleable__content\"><pre>OneHotEncoder(drop=&#x27;first&#x27;)</pre></div></div></div></div></div></div><div class=\"sk-parallel-item\"><div class=\"sk-item\"><div class=\"sk-label-container\"><div class=\"sk-label sk-toggleable\"><input class=\"sk-toggleable__control sk-hidden--visually\" id=\"sk-estimator-id-4\" type=\"checkbox\" ><label for=\"sk-estimator-id-4\" class=\"sk-toggleable__label sk-toggleable__label-arrow\">standardization</label><div class=\"sk-toggleable__content\"><pre>[1, 4, 5, 6, 7]</pre></div></div></div><div class=\"sk-serial\"><div class=\"sk-item\"><div class=\"sk-estimator sk-toggleable\"><input class=\"sk-toggleable__control sk-hidden--visually\" id=\"sk-estimator-id-5\" type=\"checkbox\" ><label for=\"sk-estimator-id-5\" class=\"sk-toggleable__label sk-toggleable__label-arrow\">StandardScaler</label><div class=\"sk-toggleable__content\"><pre>StandardScaler()</pre></div></div></div></div></div></div><div class=\"sk-parallel-item\"><div class=\"sk-item\"><div class=\"sk-label-container\"><div class=\"sk-label sk-toggleable\"><input class=\"sk-toggleable__control sk-hidden--visually\" id=\"sk-estimator-id-6\" type=\"checkbox\" ><label for=\"sk-estimator-id-6\" class=\"sk-toggleable__label sk-toggleable__label-arrow\">remainder</label><div class=\"sk-toggleable__content\"><pre></pre></div></div></div><div class=\"sk-serial\"><div class=\"sk-item\"><div class=\"sk-estimator sk-toggleable\"><input class=\"sk-toggleable__control sk-hidden--visually\" id=\"sk-estimator-id-7\" type=\"checkbox\" ><label for=\"sk-estimator-id-7\" class=\"sk-toggleable__label sk-toggleable__label-arrow\">passthrough</label><div class=\"sk-toggleable__content\"><pre>passthrough</pre></div></div></div></div></div></div></div></div></div></div>"
      ],
      "text/plain": [
       "ColumnTransformer(remainder='passthrough',\n",
       "                  transformers=[('OneHotEncoder', OneHotEncoder(drop='first'),\n",
       "                                 [0, 2, 3]),\n",
       "                                ('standardization', StandardScaler(),\n",
       "                                 [1, 4, 5, 6, 7])])"
      ]
     },
     "execution_count": 85,
     "metadata": {},
     "output_type": "execute_result"
    }
   ],
   "source": [
    "preprocesser"
   ]
  },
  {
   "cell_type": "code",
   "execution_count": 87,
   "id": "f1ea83af-77e4-4225-b474-2a5833609769",
   "metadata": {},
   "outputs": [],
   "source": [
    "X_train_dummy=preprocesser.fit_transform(X_train)\n",
    "X_test_dummy=preprocesser.fit_transform(X_test)"
   ]
  },
  {
   "cell_type": "code",
   "execution_count": 89,
   "id": "2c473904-836b-498c-955e-4a4084b54c3e",
   "metadata": {},
   "outputs": [
    {
     "data": {
      "text/plain": [
       "<6282x72 sparse matrix of type '<class 'numpy.float64'>'\n",
       "\twith 49517 stored elements in Compressed Sparse Row format>"
      ]
     },
     "execution_count": 89,
     "metadata": {},
     "output_type": "execute_result"
    }
   ],
   "source": [
    "X_train_dummy"
   ]
  },
  {
   "cell_type": "code",
   "execution_count": 91,
   "id": "5b625572-a82d-4791-b65f-82b98f106ea2",
   "metadata": {},
   "outputs": [],
   "source": [
    "from sklearn.linear_model import LinearRegression,Lasso,Ridge\n",
    "from sklearn.neighbors import KNeighborsRegressor\n",
    "from sklearn.tree import DecisionTreeRegressor\n",
    "from sklearn.metrics import mean_squared_error,r2_score"
   ]
  },
  {
   "cell_type": "code",
   "execution_count": 93,
   "id": "ea783d1e-b6b4-4458-9529-0686db73fec8",
   "metadata": {},
   "outputs": [
    {
     "name": "stdout",
     "output_type": "stream",
     "text": [
      "dtr MSE: 9141.585765712736 Score 0.9892173886904948\n"
     ]
    }
   ],
   "source": [
    "models={\n",
    "    'lr':LinearRegression(),\n",
    "    'lss':Lasso(),\n",
    "    'rg':Ridge(),\n",
    "    'Knr':KNeighborsRegressor(),\n",
    "    'dtr':DecisionTreeRegressor()\n",
    "}\n",
    "for name,mod in models.items():\n",
    "    mod.fit(X_train_dummy,y_train)\n",
    "    y_pred=mod.predict(X_test_dummy)\n",
    "\n",
    "print(f\"{name} MSE: {mean_squared_error(y_test,y_pred)} Score {r2_score(y_test,y_pred)}\")"
   ]
  },
  {
   "cell_type": "code",
   "execution_count": 95,
   "id": "9055d642-1398-4d72-b51b-3f3f9890514f",
   "metadata": {},
   "outputs": [
    {
     "data": {
      "text/plain": [
       "array([1.91      , 1.64666667, 1.97307692, ..., 0.47347826, 1.50083333,\n",
       "       1.95      ])"
      ]
     },
     "execution_count": 95,
     "metadata": {},
     "output_type": "execute_result"
    }
   ],
   "source": [
    "dtr=DecisionTreeRegressor()\n",
    "dtr.fit(X_train_dummy,y_train)\n",
    "dtr.predict(X_test_dummy)"
   ]
  },
  {
   "cell_type": "code",
   "execution_count": null,
   "id": "dc6d7a8c-9230-4f54-8d48-388c638c3f4d",
   "metadata": {},
   "outputs": [],
   "source": []
  }
 ],
 "metadata": {
  "kernelspec": {
   "display_name": "Python 3 (ipykernel)",
   "language": "python",
   "name": "python3"
  },
  "language_info": {
   "codemirror_mode": {
    "name": "ipython",
    "version": 3
   },
   "file_extension": ".py",
   "mimetype": "text/x-python",
   "name": "python",
   "nbconvert_exporter": "python",
   "pygments_lexer": "ipython3",
   "version": "3.11.7"
  }
 },
 "nbformat": 4,
 "nbformat_minor": 5
}
